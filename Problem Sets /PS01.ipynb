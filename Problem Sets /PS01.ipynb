{
 "cells": [
  {
   "cell_type": "markdown",
   "id": "9750c655-cc9c-4f38-909a-5c82beeee774",
   "metadata": {},
   "source": [
    "DS 256 Data Science Programming, Fall 2024\n",
    "Prof Eatai Roth\n",
    "\n",
    "## Problem Set 1\n",
    "Due 09/06/2024 at 5p"
   ]
  },
  {
   "cell_type": "markdown",
   "id": "b2e925cf-e825-48f4-8e02-02ac83cd8f9e",
   "metadata": {},
   "source": [
    "#### Problem 1\n",
    "\n",
    "Write a function called ```madLibs``` that takes as input a name, a number, and a food and prints the string.\n",
    "\n",
    "\"My name is ____. I eat ___ ____ for breakfast every day.\"\n",
    "\n",
    "Inputs:\n",
    " - ```name``` - a string for a name\n",
    " - ```number``` - a string, float, or integer as a number\n",
    " - ```food``` - a food (or non-food) item\n",
    "\n",
    "Output:\n",
    " - no output (printing is not a returned value)"
   ]
  },
  {
   "cell_type": "code",
   "execution_count": 22,
   "id": "aba04c0b-9dca-4080-b19e-81de4a8cc4f8",
   "metadata": {},
   "outputs": [],
   "source": [
    "def madLibs(name, number, food):\n",
    "    # print the formatted string\n",
    "    print(f'My name is {name}. I eat {number} {food} for breakfast every day.')"
   ]
  },
  {
   "cell_type": "code",
   "execution_count": 24,
   "id": "33a6e215-99e0-450b-ad21-9fb3992b8740",
   "metadata": {},
   "outputs": [
    {
     "name": "stdout",
     "output_type": "stream",
     "text": [
      "My name is Lily. I eat 4 pancakes for breakfast every day.\n"
     ]
    }
   ],
   "source": [
    "madLibs(\"Lily\", 4, \"pancakes\")"
   ]
  },
  {
   "cell_type": "markdown",
   "id": "6890190c-da40-4df8-bc91-b0d193ffb54c",
   "metadata": {},
   "source": [
    "#### Problem 2\n",
    "\n",
    "Write a function called ```echo``` that takes as input a word and a number and outputs a string with the word repeated the number of times specified. The words should be separated by the number of spaces the word is repeated; if 'hello' is echoed twice (three total), each 'hello' should be separated by two spaces.\n",
    "\n",
    "Inputs:\n",
    " - ```yell``` - a string\n",
    " - ```reps``` - an int\n",
    "\n",
    "Outputs:\n",
    " - ```yellyell``` - a string of the echoed input"
   ]
  },
  {
   "cell_type": "code",
   "execution_count": 102,
   "id": "7e11c741-2621-4b88-81f2-be0abba0487c",
   "metadata": {},
   "outputs": [],
   "source": [
    "def echo(yell, reps):\n",
    "    yellyell = (f'{' '* reps}').join([yell] * (reps+1))\n",
    "    return yellyell\n"
   ]
  },
  {
   "cell_type": "code",
   "execution_count": 104,
   "id": "70869504-f8b6-4fcd-9e21-39e5e072edeb",
   "metadata": {},
   "outputs": [
    {
     "data": {
      "text/plain": [
       "'sophie     sophie     sophie     sophie     sophie     sophie'"
      ]
     },
     "execution_count": 104,
     "metadata": {},
     "output_type": "execute_result"
    }
   ],
   "source": [
    "echo('sophie', 5)"
   ]
  },
  {
   "cell_type": "code",
   "execution_count": 106,
   "id": "67a18d3f-8f8d-47ba-b351-d390b1ccacd6",
   "metadata": {},
   "outputs": [
    {
     "name": "stdout",
     "output_type": "stream",
     "text": [
      "You passed all the tests!\n"
     ]
    }
   ],
   "source": [
    "assert echo('hi', 2) == 'hi  hi  hi'\n",
    "assert echo('hello', 1) == 'hello hello'\n",
    "assert echo('goodbye', 0) == 'goodbye'\n",
    "assert echo('good day', -1) == ''\n",
    "\n",
    "print('You passed all the tests!')\n"
   ]
  },
  {
   "cell_type": "markdown",
   "id": "efe98052-e76f-4118-8eca-1bf3eba46df1",
   "metadata": {},
   "source": [
    "#### Problem 3\n",
    "\n",
    "Write a function called ```makePalindrome```.\n",
    "\n",
    "Inputs:\n",
    " - ```input``` - a list or a string\n",
    "\n",
    "Outputs:\n",
    " - ```inputupni``` - a list or a string\n",
    "\n",
    "The function should take the input list and append to it the reverse list minus the last entry. That is, there should not be a double entry in the middle of your palindrome list.\n",
    "\n",
    "For example:\n",
    "    makePalindrome([1,2,3]) should return [1,2,3,2,1]"
   ]
  },
  {
   "cell_type": "code",
   "execution_count": 55,
   "id": "02db9343-8905-4229-ba4a-7dd8afdd3cf1",
   "metadata": {},
   "outputs": [],
   "source": [
    "def makePalindrome(list_input):\n",
    "    # have the return give back the inputted list plus the reverse list \n",
    "    return list_input + list_input[:-1][::-1]"
   ]
  },
  {
   "cell_type": "code",
   "execution_count": 53,
   "id": "c238a6e3-d407-4443-95e1-252e6a0b2cc8",
   "metadata": {},
   "outputs": [
    {
     "data": {
      "text/plain": [
       "'dcbabcd'"
      ]
     },
     "execution_count": 53,
     "metadata": {},
     "output_type": "execute_result"
    }
   ],
   "source": [
    "makePalindrome('dcba')"
   ]
  },
  {
   "cell_type": "code",
   "execution_count": 45,
   "id": "92b84575-34c4-4a7b-9dee-cd51177d5110",
   "metadata": {},
   "outputs": [
    {
     "name": "stdout",
     "output_type": "stream",
     "text": [
      "You passed all the tests!\n"
     ]
    }
   ],
   "source": [
    "assert makePalindrome('abc')=='abcba'\n",
    "assert makePalindrome(['why', 'oh'])==['why','oh','why']\n",
    "assert makePalindrome([1,2,'tree',4,4])==[1,2,'tree',4,4,4,'tree',2,1]\n",
    "\n",
    "print('You passed all the tests!')"
   ]
  },
  {
   "cell_type": "markdown",
   "id": "8e42288f-c042-4425-a086-5de928c71ac6",
   "metadata": {},
   "source": [
    "#### Problem 4\n",
    "\n",
    "Write a function called ```isPalindrome``` that returns ```True``` if the input is a palindrome and ```False``` if not. For now, the input has to be an EXACT palindrome, including matching capitalization and punctuation.\n",
    "\n",
    "Input:\n",
    " - ```pali``` - list to check\n",
    "\n",
    "Output:\n",
    " - ```ilap``` - boolean"
   ]
  },
  {
   "cell_type": "code",
   "execution_count": 24,
   "id": "1d6b77fa-d24a-4d61-8018-60e4dbf136a0",
   "metadata": {},
   "outputs": [],
   "source": [
    "def isPalindrome(pali):\n",
    "    return pali == pali[::-1]"
   ]
  },
  {
   "cell_type": "code",
   "execution_count": 28,
   "id": "2cb9c284-4074-4c6e-b992-588c2bf08334",
   "metadata": {},
   "outputs": [
    {
     "data": {
      "text/plain": [
       "True"
      ]
     },
     "execution_count": 28,
     "metadata": {},
     "output_type": "execute_result"
    }
   ],
   "source": [
    "isPalindrome('tacoocat')"
   ]
  },
  {
   "cell_type": "code",
   "execution_count": 13,
   "id": "951e0b9d-eb12-4e54-8ba1-96c813be683e",
   "metadata": {},
   "outputs": [
    {
     "name": "stdout",
     "output_type": "stream",
     "text": [
      "You passed all the tests!\n"
     ]
    }
   ],
   "source": [
    "assert isPalindrome('tacocat') == True\n",
    "assert isPalindrome('a man a plan a canal panama') == False\n",
    "assert isPalindrome([1,2,'tree',2,1]) == True\n",
    "\n",
    "print('You passed all the tests!')"
   ]
  },
  {
   "cell_type": "markdown",
   "id": "6d208993-1aed-4bb4-a49f-6c465b91b221",
   "metadata": {},
   "source": [
    "#### Problem 5\n",
    "\n",
    "Write a function called ```unzipList``` that takes as an input a list and outputs two lists the first containing all the even-indexed items and the second containing all the odd-indexed items.\n",
    "\n",
    "Input:\n",
    " - ```mylist``` - list or string input\n",
    "\n",
    "Outputs:\n",
    " - ```evens``` - list of even indexes\n",
    " - ```odds``` - list of odd indexes"
   ]
  },
  {
   "cell_type": "code",
   "execution_count": 74,
   "id": "881b0fa3-8208-4a38-8ca0-6070967a31d9",
   "metadata": {},
   "outputs": [],
   "source": [
    "def unzipList(mylist):\n",
    "    evens = mylist[::2]\n",
    "    odds = mylist[1::2]\n",
    "    return evens, odds"
   ]
  },
  {
   "cell_type": "code",
   "execution_count": 76,
   "id": "ba2e525d-6569-49a3-9683-d9eb7ab478ea",
   "metadata": {},
   "outputs": [
    {
     "name": "stdout",
     "output_type": "stream",
     "text": [
      "You passed all the tests!\n"
     ]
    }
   ],
   "source": [
    "assert unzipList([1, 'a', 2, 'b', 3])==([1,2,3], ['a','b'])\n",
    "assert unzipList(['bye'])==(['bye'],[])\n",
    "assert unzipList('nonosense')==('nnsne','ooes')\n",
    "\n",
    "print('You passed all the tests!')"
   ]
  },
  {
   "cell_type": "markdown",
   "id": "e606e397-0f75-4d6e-94d0-a5d242b92cbb",
   "metadata": {},
   "source": [
    "#### Problem 6\n",
    "\n",
    "Write a function ```isLeapYear``` that returns a boolean indicating whether the year is a leap year.\n",
    "\n",
    "Leap years are divisible by 4, except we don't have leap years in the zero-th year of a new century (not divisible by 100) unless that year is divisible by 400.\n",
    "\n",
    "Hint: Look up the modulo operator for Python."
   ]
  },
  {
   "cell_type": "code",
   "execution_count": 89,
   "id": "e7d55c77-a6d0-4f9d-8bff-9e550aec3a2d",
   "metadata": {},
   "outputs": [],
   "source": [
    "def isLeapYear(year):\n",
    "    if year % 4 == 0:\n",
    "        if year % 100 == 0:\n",
    "            if year % 400 == 0:\n",
    "                # if everything is true then it will return true \n",
    "                return True \n",
    "            # if the number is divisable by 4 and 100 but not 400 it is false\n",
    "            else:\n",
    "                return False\n",
    "        # if the number is divisable by 4 but not 100 it is true \n",
    "        else:\n",
    "            return True\n",
    "    # if the first line is not true it is going to jump down to this line because it will only continue down the ladder if true\n",
    "    else:\n",
    "        return False"
   ]
  },
  {
   "cell_type": "code",
   "execution_count": 91,
   "id": "43d51847-9172-4bf8-8505-3a3336f4b5dc",
   "metadata": {},
   "outputs": [
    {
     "name": "stdout",
     "output_type": "stream",
     "text": [
      "You passed all the tests!\n"
     ]
    }
   ],
   "source": [
    "assert isLeapYear(2024)\n",
    "assert isLeapYear(2000)\n",
    "assert not isLeapYear(1900)\n",
    "assert isLeapYear(1600)\n",
    "\n",
    "print('You passed all the tests!')"
   ]
  },
  {
   "cell_type": "markdown",
   "id": "c8668928-01e9-408c-8921-3f8de9dfe2a0",
   "metadata": {},
   "source": [
    "#### Problem 7\n",
    "\n",
    "Write a function called ```daysInMonth```. The function should take the name of a month and return the number of days in that month. \n",
    "\n",
    "Try to make the function forgiving as to how the user enters the month name.\n",
    "\n",
    "Hint: look up \"lowercase Python\""
   ]
  },
  {
   "cell_type": "code",
   "execution_count": 80,
   "id": "ba32383c-6773-4db0-9a45-912850160cbe",
   "metadata": {},
   "outputs": [],
   "source": [
    "def daysInMonth(month):\n",
    "    lowercase_month = month.lower()\n",
    "    # dictionary(?) for the months \n",
    "    number_of_days = {'january':31,'jan':31,\n",
    "                      'february':28,'feb':28,\n",
    "                      'march':31,'mar':31,\n",
    "                      'april':30,'apr':30,\n",
    "                      'may':31,\n",
    "                      'june':30,'jun':30,\n",
    "                      'july':31,'jul':31,\n",
    "                      'august':31,'aug':31,\n",
    "                      'september':30,'sep':30,'sept':30,\n",
    "                      'october':31,'oct':31,\n",
    "                      'november':30,'nov':30,\n",
    "                      'december':31,'dec':31}\n",
    "    return number_of_days.get(lowercase_month)"
   ]
  },
  {
   "cell_type": "code",
   "execution_count": 82,
   "id": "cc15c00b-1356-40eb-9215-8860dd217c77",
   "metadata": {},
   "outputs": [
    {
     "data": {
      "text/plain": [
       "30"
      ]
     },
     "execution_count": 82,
     "metadata": {},
     "output_type": "execute_result"
    }
   ],
   "source": [
    "daysInMonth('sept')"
   ]
  },
  {
   "cell_type": "code",
   "execution_count": 84,
   "id": "57d699b7-54a7-4599-8392-c9134d1c70ef",
   "metadata": {},
   "outputs": [
    {
     "name": "stdout",
     "output_type": "stream",
     "text": [
      "You passed all the tests!\n"
     ]
    }
   ],
   "source": [
    "assert daysInMonth('January')==31\n",
    "assert daysInMonth('feb')==28\n",
    "assert daysInMonth('september')==30\n",
    "\n",
    "print('You passed all the tests!')"
   ]
  },
  {
   "cell_type": "markdown",
   "id": "dc81c822-f21d-4ea3-88ae-6f889c395ed1",
   "metadata": {},
   "source": [
    "#### Problem 8\n",
    "Write a function called ```longerList``` that takes as input two lists and returns the longer of the two. If the lists are the same length, return the second list.\n",
    "\n",
    "DO **NOT** USE AN ```if``` STATEMENT. Yes, this is tricky."
   ]
  },
  {
   "cell_type": "code",
   "execution_count": 19,
   "id": "b4b07897-f709-4737-aaa1-fba3ad90d0b4",
   "metadata": {},
   "outputs": [],
   "source": [
    "def longerList(list1, list2):\n",
    "    "
   ]
  },
  {
   "cell_type": "code",
   "execution_count": 21,
   "id": "a0935d64-3099-42e6-b0c9-d23fbe10a03c",
   "metadata": {},
   "outputs": [],
   "source": [
    "L0 = []\n",
    "L1 = [1,2,3]\n",
    "L2 = [4,5,6,7,8]\n",
    "L3 = 'hello'\n",
    "L4 = 'there'\n",
    "L5 = 'hi'\n",
    "\n",
    "assert longerList(L0, L1) == L1\n",
    "assert longerList(L2, L1) == L2\n",
    "assert longerList(L3, L4) == L4\n",
    "assert longerList(L4, L3) == L3\n",
    "assert longerList(L3, L5) == L3\n",
    "\n",
    "print('You passed all the tests!')"
   ]
  },
  {
   "cell_type": "code",
   "execution_count": null,
   "id": "b769fecb-d27a-410c-8a35-c8815e9bce9a",
   "metadata": {},
   "outputs": [],
   "source": []
  }
 ],
 "metadata": {
  "kernelspec": {
   "display_name": "Python 3 (ipykernel)",
   "language": "python",
   "name": "python3"
  },
  "language_info": {
   "codemirror_mode": {
    "name": "ipython",
    "version": 3
   },
   "file_extension": ".py",
   "mimetype": "text/x-python",
   "name": "python",
   "nbconvert_exporter": "python",
   "pygments_lexer": "ipython3",
   "version": "3.12.4"
  }
 },
 "nbformat": 4,
 "nbformat_minor": 5
}
