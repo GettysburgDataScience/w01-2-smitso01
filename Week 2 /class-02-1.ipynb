{
 "cells": [
  {
   "cell_type": "markdown",
   "metadata": {},
   "source": [
    "DS 256 Data Science Programming, Fall 2024\n",
    "Prof Eatai Roth\n",
    "\n",
    "Class 1.1\n",
    "\n",
    "This class we'll be introducing new data types: lists and tuples.\n",
    "You can read more about lists and tuples in [WTOP Ch 6](https://jakevdp.github.io/WhirlwindTourOfPython/06-built-in-data-structures.html).\n",
    "\n"
   ]
  },
  {
   "cell_type": "markdown",
   "id": "44fee194-34fd-432b-9268-ef937c921d23",
   "metadata": {},
   "source": [
    "### ASIDE: downloading the textbook\n",
    "\n",
    "You can download (NOT clone) the entire textbook as interactive notebooks."
   ]
  },
  {
   "cell_type": "markdown",
   "id": "c839eaf5-0cf0-4027-b238-3588851f8ece",
   "metadata": {},
   "source": [
    "### ASIDE: how to export class notes to PDF\n",
    "\n",
    "If you'd like to keep a copy of class notes as PDF, you can export Jupyter notebooks using \n",
    "\n",
    "File > Save and Export Notebook as... > PDF\n",
    "\n",
    "If you get an error that you are missing XeLaTeX, you can install XeLatex on your machine with either:\n",
    " - [MikTeX for Windows, MacOs, Linux](https://miktex.org/download)\n",
    "\n",
    "If you are using MacOS, open terminal and type.\n",
    "\n",
    "```export PATH=/Library/TeX/texbin:$PATH```\n",
    "\n",
    "Then quite Jupyter Lab (File > Shut Down) and relaunch.\n",
    "\n",
    "You may also need to [install pandoc](https://pandoc.org/installing.html)."
   ]
  },
  {
   "cell_type": "markdown",
   "id": "0a0b6ac0-cbf3-4e85-bc69-6352da3f7253",
   "metadata": {},
   "source": [
    "## Lists\n",
    "\n",
    "A *list* is an ordered grouping of data.\n",
    "\n",
    "Lists in Python are enclosed in brackets with items separated by commas. Lists can contain any object type and types don't need to be consistent within the list."
   ]
  },
  {
   "cell_type": "code",
   "execution_count": 5,
   "id": "82be8d3e-ebd2-49a4-9b49-5c02c02f2120",
   "metadata": {},
   "outputs": [
    {
     "data": {
      "text/plain": [
       "[1, 2, 'hi there', 6.7]"
      ]
     },
     "execution_count": 5,
     "metadata": {},
     "output_type": "execute_result"
    }
   ],
   "source": [
    "A = [1,2,'hi there', 6.7]\n",
    "A"
   ]
  },
  {
   "cell_type": "markdown",
   "id": "920fe9c2-e79e-4b09-bc57-770ac10b84f0",
   "metadata": {},
   "source": [
    "### Adding to lists\n",
    "\n",
    "You can add an item to the end of a list with ```.append(item)```\n",
    "\n",
    "You can concatenate two lists with +."
   ]
  },
  {
   "cell_type": "code",
   "execution_count": 7,
   "id": "a7fd31d4-857f-4bc2-86bc-4d364052c5af",
   "metadata": {},
   "outputs": [],
   "source": [
    "A.append(5)"
   ]
  },
  {
   "cell_type": "code",
   "execution_count": 9,
   "id": "8baebd95-1e66-45f4-8a2f-8ffbec630efa",
   "metadata": {},
   "outputs": [],
   "source": [
    "B = ['fee', 'fi', 'fo']"
   ]
  },
  {
   "cell_type": "code",
   "execution_count": 23,
   "id": "80a8a50d-0177-46ed-a9a7-cd348de496c0",
   "metadata": {},
   "outputs": [],
   "source": [
    "A.append(B)"
   ]
  },
  {
   "cell_type": "code",
   "execution_count": 25,
   "id": "77bf3b83-a8cb-44df-870f-a86009a5cdbd",
   "metadata": {},
   "outputs": [
    {
     "data": {
      "text/plain": [
       "[1, 2, 'hi there', 6.7, 5, ['fee', 'fi', 'fo']]"
      ]
     },
     "execution_count": 25,
     "metadata": {},
     "output_type": "execute_result"
    }
   ],
   "source": [
    "A"
   ]
  },
  {
   "cell_type": "markdown",
   "id": "7e066354-5ec0-4db7-85a1-e41100a4ead7",
   "metadata": {},
   "source": [
    "### Length of lists\n",
    "\n",
    "You can get the length of a list with the function ```len(list)```"
   ]
  },
  {
   "cell_type": "code",
   "execution_count": 15,
   "id": "4ea7c52a-5ca1-46a2-b664-ae86d3fe8606",
   "metadata": {},
   "outputs": [
    {
     "data": {
      "text/plain": [
       "5"
      ]
     },
     "execution_count": 15,
     "metadata": {},
     "output_type": "execute_result"
    }
   ],
   "source": [
    "len(A)"
   ]
  },
  {
   "cell_type": "markdown",
   "id": "fcf007d9-7d24-4600-aab5-010b27ff3790",
   "metadata": {},
   "source": [
    "### Indexing of lists\n",
    "\n",
    "The locations in a list are indexed by number, starting at 0. That is, a list starts with a zero-th entry.\n",
    "\n",
    "Alternatively, you can index lists from the end backwards starting with -1 (the last item in a list).\n",
    "\n",
    "You extract a value from a list using brackets. For example, ```myList[5]``` would return the 6th entry of the list.\n",
    "\n",
    "And you can use indexing to assign new values to items in the list."
   ]
  },
  {
   "cell_type": "code",
   "execution_count": 17,
   "id": "243ddafd-a9ce-4a57-aa9f-3d46e9f80e72",
   "metadata": {},
   "outputs": [
    {
     "data": {
      "text/plain": [
       "9"
      ]
     },
     "execution_count": 17,
     "metadata": {},
     "output_type": "execute_result"
    }
   ],
   "source": [
    "D = [4,6,10,3,2,9,15,13,6]\n",
    "len(D)"
   ]
  },
  {
   "cell_type": "code",
   "execution_count": 29,
   "id": "0aa76962-0dae-4740-9e6d-249b31f2a18a",
   "metadata": {},
   "outputs": [
    {
     "data": {
      "text/plain": [
       "9"
      ]
     },
     "execution_count": 29,
     "metadata": {},
     "output_type": "execute_result"
    }
   ],
   "source": [
    "D[5]"
   ]
  },
  {
   "cell_type": "code",
   "execution_count": 27,
   "id": "64ed0b40-84ce-4e7d-b22e-4c929ceec317",
   "metadata": {},
   "outputs": [
    {
     "data": {
      "text/plain": [
       "9"
      ]
     },
     "execution_count": 27,
     "metadata": {},
     "output_type": "execute_result"
    }
   ],
   "source": [
    "D[-4]"
   ]
  },
  {
   "cell_type": "markdown",
   "id": "34d0a707-71d7-4b06-a67e-4c19d75e5fce",
   "metadata": {
    "editable": true,
    "slideshow": {
     "slide_type": ""
    },
    "tags": []
   },
   "source": [
    "### Slicing lists\n",
    "\n",
    "A slice is an extraction of a sub-list from a list.\n",
    "\n",
    "You slice a list as:\n",
    "\n",
    "```\n",
    "myList[startIdx:stopIdx:stepSize]\n",
    "```\n",
    "Notes:\n",
    "\n",
    " - the list will go up to but not include the stopIdx.\n",
    " - any of the parameters can be skipped.\n",
    " - start is the index at the start, stop is the index you want it to stop at, and step is by how many you want it to count by \n",
    "\n",
    "Try some of these:\n",
    " - myList[0:5:2]\n",
    " - myList[0:5]\n",
    " - myList[4::]\n",
    " - myList[::3]\n",
    " - myList[-3:]\n"
   ]
  },
  {
   "cell_type": "code",
   "execution_count": 32,
   "id": "8ff7b70b-81fb-4a58-9b8b-9679d9ec8f2f",
   "metadata": {},
   "outputs": [],
   "source": [
    "E = [0,3,5,7,9,2,4,6,8]"
   ]
  },
  {
   "cell_type": "code",
   "execution_count": 34,
   "id": "75eaaae5-083e-4e56-be3f-eff3049a0398",
   "metadata": {},
   "outputs": [
    {
     "data": {
      "text/plain": [
       "[7, 9, 2]"
      ]
     },
     "execution_count": 34,
     "metadata": {},
     "output_type": "execute_result"
    }
   ],
   "source": [
    "E[3:6]"
   ]
  },
  {
   "cell_type": "code",
   "execution_count": 36,
   "id": "d4acd451-e2e6-4fd0-9b32-2493136e30b7",
   "metadata": {},
   "outputs": [
    {
     "data": {
      "text/plain": [
       "[0, 5, 9, 4]"
      ]
     },
     "execution_count": 36,
     "metadata": {},
     "output_type": "execute_result"
    }
   ],
   "source": [
    "E[0:7:2]"
   ]
  },
  {
   "cell_type": "code",
   "execution_count": 38,
   "id": "86be0b8f-cf03-4851-97eb-f143dd14f97c",
   "metadata": {},
   "outputs": [
    {
     "data": {
      "text/plain": [
       "[0, 7, 4]"
      ]
     },
     "execution_count": 38,
     "metadata": {},
     "output_type": "execute_result"
    }
   ],
   "source": [
    "E[::3]"
   ]
  },
  {
   "cell_type": "code",
   "execution_count": 40,
   "id": "3335a9b4-eb77-45e9-9bc7-460a87abea07",
   "metadata": {},
   "outputs": [
    {
     "data": {
      "text/plain": [
       "[4, 6, 8]"
      ]
     },
     "execution_count": 40,
     "metadata": {},
     "output_type": "execute_result"
    }
   ],
   "source": [
    "E[-3:]"
   ]
  },
  {
   "cell_type": "code",
   "execution_count": 44,
   "id": "d8a4fc75-77a8-4680-85ea-24d2ed2c6d14",
   "metadata": {},
   "outputs": [
    {
     "data": {
      "text/plain": [
       "[0, 9, 8]"
      ]
     },
     "execution_count": 44,
     "metadata": {},
     "output_type": "execute_result"
    }
   ],
   "source": [
    "E[::4]"
   ]
  },
  {
   "cell_type": "code",
   "execution_count": 46,
   "id": "e5c751b8-0875-45fc-9fad-5f359303f9f4",
   "metadata": {},
   "outputs": [
    {
     "data": {
      "text/plain": [
       "[4, 2, 9, 7, 5, 3, 0]"
      ]
     },
     "execution_count": 46,
     "metadata": {},
     "output_type": "execute_result"
    }
   ],
   "source": [
    "E[-3::-1]"
   ]
  },
  {
   "cell_type": "code",
   "execution_count": 52,
   "id": "50304576-2cb9-4814-a1c8-908d7d9ee938",
   "metadata": {},
   "outputs": [
    {
     "data": {
      "text/plain": [
       "[4, 2, 9, 7, 5, 3]"
      ]
     },
     "execution_count": 52,
     "metadata": {},
     "output_type": "execute_result"
    }
   ],
   "source": [
    "E[-3:0:-1]"
   ]
  },
  {
   "cell_type": "code",
   "execution_count": 48,
   "id": "c91c59fd-cd8c-4510-85e2-68467bc3fd3f",
   "metadata": {},
   "outputs": [
    {
     "data": {
      "text/plain": [
       "'olleh'"
      ]
     },
     "execution_count": 48,
     "metadata": {},
     "output_type": "execute_result"
    }
   ],
   "source": [
    "hi = 'hello'\n",
    "hi[-1::-1]"
   ]
  },
  {
   "cell_type": "code",
   "execution_count": 50,
   "id": "b69fcd56-6bae-4884-95b9-9f1e3d32ac88",
   "metadata": {},
   "outputs": [
    {
     "data": {
      "text/plain": [
       "'hlo'"
      ]
     },
     "execution_count": 50,
     "metadata": {},
     "output_type": "execute_result"
    }
   ],
   "source": [
    "hi[::2]"
   ]
  },
  {
   "cell_type": "markdown",
   "id": "ccb08874-9c9b-4ec8-8193-abc4b4f4186e",
   "metadata": {},
   "source": [
    "### Finding an element in a list\n",
    "\n",
    "If a list contains an element, you can find where that element is using ```.index(searchItem)```"
   ]
  },
  {
   "cell_type": "code",
   "execution_count": 54,
   "id": "0c2a7bce-1fe8-4c87-a9e0-3ff760aaea49",
   "metadata": {},
   "outputs": [],
   "source": [
    "myFavoritePets = ['Ramona RIP', 'Boyd', 'MJ', 'Rylan', 'Puff']"
   ]
  },
  {
   "cell_type": "code",
   "execution_count": 56,
   "id": "30a47727-073c-4524-9ced-360322a35d3f",
   "metadata": {},
   "outputs": [
    {
     "data": {
      "text/plain": [
       "1"
      ]
     },
     "execution_count": 56,
     "metadata": {},
     "output_type": "execute_result"
    }
   ],
   "source": [
    "myFavoritePets.index('Boyd')"
   ]
  },
  {
   "cell_type": "code",
   "execution_count": 58,
   "id": "5d9db248-42cb-4b14-8762-8f419d9ee8b2",
   "metadata": {},
   "outputs": [],
   "source": [
    "myFavoritePets[1] = 'Cody'"
   ]
  },
  {
   "cell_type": "code",
   "execution_count": 60,
   "id": "d0e2389e-1397-44bf-8b9c-513a14891863",
   "metadata": {},
   "outputs": [
    {
     "data": {
      "text/plain": [
       "['Ramona RIP', 'Cody', 'MJ', 'Rylan', 'Puff']"
      ]
     },
     "execution_count": 60,
     "metadata": {},
     "output_type": "execute_result"
    }
   ],
   "source": [
    "myFavoritePets"
   ]
  },
  {
   "cell_type": "markdown",
   "id": "f54c3daa-c954-4583-b116-3baf35614b1a",
   "metadata": {},
   "source": [
    "## Tuples\n",
    "\n",
    "Tuples are like lists in that they group any number of any kind of items. A tuple is enclosed in parentheses.\n",
    "\n",
    "```\n",
    "myTuple = (1,2,'hello')\n",
    "```\n",
    "HOWEVER, tuples are immutable. That just means that once they're created, you cannot change them. You can't append to it or change a value inside of it. You would have to create a copy of that one that is different."
   ]
  },
  {
   "cell_type": "code",
   "execution_count": 69,
   "id": "aac0b0a3-8b1a-4394-8031-42f320cd0dae",
   "metadata": {},
   "outputs": [],
   "source": [
    "myTuples = (1,2, 'hello')"
   ]
  },
  {
   "cell_type": "code",
   "execution_count": 73,
   "id": "2ea6c07a-13f0-4f1b-93f0-efe207a65301",
   "metadata": {},
   "outputs": [
    {
     "data": {
      "text/plain": [
       "(1, 2, 'hello')"
      ]
     },
     "execution_count": 73,
     "metadata": {},
     "output_type": "execute_result"
    }
   ],
   "source": [
    "myTuples"
   ]
  },
  {
   "cell_type": "markdown",
   "id": "9066c769-11de-4706-b4ff-e1135374316f",
   "metadata": {},
   "source": [
    "## Logical operators\n",
    "\n",
    "If you make a comparison of two values, the result is a Boolean. Some comparisons you might make are:\n",
    "\n",
    " - \\> - greater than\n",
    " - < - less than\n",
    " - \\>= greater than or equal to\n",
    " - == equal to (note the difference between = and ==)\n",
    " - != not equal to\n",
    "\n",
    "You can also combine boolean statements with *logical operators*:\n",
    "\n",
    " - ```and``` - A and B is ```True``` only if both are ```True``` true if both are true\n",
    " - ```or``` - A or B is ```True``` if at least one of them is ```True``` true if either of them are true (always true unless both are false)\n",
    " - not - not A is the opposite of whatever A is."
   ]
  },
  {
   "cell_type": "code",
   "execution_count": 105,
   "id": "3bc78a92-79de-4289-af5d-28ba07f22e08",
   "metadata": {},
   "outputs": [],
   "source": [
    "x = 90"
   ]
  },
  {
   "cell_type": "code",
   "execution_count": 107,
   "id": "675f8adb-a3f9-4735-8515-1da8ff4eda13",
   "metadata": {},
   "outputs": [
    {
     "data": {
      "text/plain": [
       "True"
      ]
     },
     "execution_count": 107,
     "metadata": {},
     "output_type": "execute_result"
    }
   ],
   "source": [
    "(x>=10) and (x<=100)"
   ]
  },
  {
   "cell_type": "code",
   "execution_count": null,
   "id": "7042017d-2f3b-4bc3-9008-a49fea0b492f",
   "metadata": {},
   "outputs": [],
   "source": [
    "("
   ]
  },
  {
   "cell_type": "code",
   "execution_count": 85,
   "id": "6bc84574-abe8-49ab-831f-448e2914b4fc",
   "metadata": {},
   "outputs": [
    {
     "data": {
      "text/plain": [
       "False"
      ]
     },
     "execution_count": 85,
     "metadata": {},
     "output_type": "execute_result"
    }
   ],
   "source": [
    "Bigger == 6"
   ]
  },
  {
   "cell_type": "markdown",
   "id": "d05c375c-67ea-4e08-8858-7f410d451f75",
   "metadata": {},
   "source": [
    "You can also consider booleans to have values of 0 (for False) or 1 (for True).\n",
    "\n",
    "Try some arithmatic with True and False."
   ]
  },
  {
   "cell_type": "code",
   "execution_count": 109,
   "id": "5c130b31-708f-48a0-9e8c-090659ac50c5",
   "metadata": {},
   "outputs": [
    {
     "data": {
      "text/plain": [
       "0"
      ]
     },
     "execution_count": 109,
     "metadata": {},
     "output_type": "execute_result"
    }
   ],
   "source": [
    "False * 3"
   ]
  },
  {
   "cell_type": "code",
   "execution_count": 111,
   "id": "65bf948f-2b76-43d0-8d23-19bb457f38dc",
   "metadata": {},
   "outputs": [
    {
     "data": {
      "text/plain": [
       "3"
      ]
     },
     "execution_count": 111,
     "metadata": {},
     "output_type": "execute_result"
    }
   ],
   "source": [
    "False + 3"
   ]
  },
  {
   "cell_type": "code",
   "execution_count": 113,
   "id": "fcd85641-dff4-47a4-8cef-e16c9240546b",
   "metadata": {},
   "outputs": [
    {
     "data": {
      "text/plain": [
       "4"
      ]
     },
     "execution_count": 113,
     "metadata": {},
     "output_type": "execute_result"
    }
   ],
   "source": [
    "True + 3"
   ]
  },
  {
   "cell_type": "code",
   "execution_count": null,
   "id": "9f31cf26-dbe3-4b0a-a201-363777633e1c",
   "metadata": {},
   "outputs": [],
   "source": []
  }
 ],
 "metadata": {
  "kernelspec": {
   "display_name": "Python 3 (ipykernel)",
   "language": "python",
   "name": "python3"
  },
  "language_info": {
   "codemirror_mode": {
    "name": "ipython",
    "version": 3
   },
   "file_extension": ".py",
   "mimetype": "text/x-python",
   "name": "python",
   "nbconvert_exporter": "python",
   "pygments_lexer": "ipython3",
   "version": "3.12.4"
  }
 },
 "nbformat": 4,
 "nbformat_minor": 5
}
